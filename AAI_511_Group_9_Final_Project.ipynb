{
  "nbformat": 4,
  "nbformat_minor": 0,
  "metadata": {
    "colab": {
      "provenance": [],
      "gpuType": "L4",
      "machine_shape": "hm"
    },
    "kernelspec": {
      "name": "python3",
      "display_name": "Python 3"
    },
    "language_info": {
      "name": "python"
    },
    "accelerator": "GPU"
  },
  "cells": [
    {
      "cell_type": "markdown",
      "source": [
        "# Composer Classification Deep Learning\n",
        "#### AAI-511\n",
        "#### University of San Diego\n",
        "#### Kim Vierczhalek and Lishi Wang\n",
        "\n",
        "\n",
        "The following notebook uses RNN and CNN models to identify the composer of a given piece of music. This notebook includes EDA on the midi files for four composers (Bach, Mozart, Chopin and Beethoven) as well as data preprocessing steps and Model architectures, training and results. Each section has headers to explain the intent of that particular section."
      ],
      "metadata": {
        "id": "f5iKiLEF1CRg"
      }
    },
    {
      "cell_type": "code",
      "source": [
        "from google.colab import drive\n",
        "drive.mount('/content/drive')"
      ],
      "metadata": {
        "colab": {
          "base_uri": "https://localhost:8080/"
        },
        "id": "lJu5n-Tq3gwG",
        "outputId": "d58682c3-acbd-4f56-bcc5-4bbae869a6a5"
      },
      "execution_count": null,
      "outputs": [
        {
          "output_type": "stream",
          "name": "stdout",
          "text": [
            "Drive already mounted at /content/drive; to attempt to forcibly remount, call drive.mount(\"/content/drive\", force_remount=True).\n"
          ]
        }
      ]
    },
    {
      "cell_type": "code",
      "source": [
        "!pip install pretty_midi mido --quiet"
      ],
      "metadata": {
        "id": "TqVGgAcqXlfG"
      },
      "execution_count": null,
      "outputs": []
    },
    {
      "cell_type": "code",
      "execution_count": null,
      "metadata": {
        "id": "Ko49OOCa2vcc"
      },
      "outputs": [],
      "source": [
        "import tensorflow as tf\n",
        "from tensorflow.keras.utils import Sequence\n",
        "import pandas as pd\n",
        "import numpy as np\n",
        "import matplotlib.pyplot as plt\n",
        "import seaborn as sns\n",
        "from sklearn.model_selection import train_test_split\n",
        "import PIL\n",
        "import PIL.Image as Image\n",
        "from IPython import display\n",
        "from sklearn.metrics import accuracy_score, precision_score, recall_score, f1_score, roc_auc_score\n",
        "from sklearn.metrics import classification_report\n",
        "from sklearn.preprocessing import LabelBinarizer\n",
        "from sklearn.metrics import confusion_matrix\n",
        "import os\n",
        "import pretty_midi\n",
        "import librosa.display\n",
        "\n",
        "from scipy import sparse\n",
        "from scipy.sparse import csr_matrix\n",
        "\n",
        "import pretty_midi\n",
        "import numpy as np\n",
        "from sklearn.model_selection import train_test_split\n",
        "from sklearn.preprocessing import OneHotEncoder\n",
        "from collections import Counter\n",
        "from tensorflow.keras.models import Sequential\n",
        "from tensorflow.keras.layers import LSTM, Dense, Dropout, Embedding, Bidirectional\n",
        "from tensorflow.keras.utils import to_categorical\n",
        "from tensorflow.keras.preprocessing.sequence import pad_sequences\n",
        "from tensorflow.keras.callbacks import EarlyStopping\n",
        "from mido import KeySignatureError\n",
        "import os\n",
        "import random\n",
        "import tensorflow as tf"
      ]
    },
    {
      "cell_type": "markdown",
      "source": [
        "### EDA\n",
        "The following several sections of code preform EDA on the data files, this includes gathering labels, creating a piano roll, exploring quantity of files for each composer, exploring information about the data (pitch, tempo, velocity) and outputing the instrument distribution across all composers. This type of analysis is helpful in designing the model as well as identifying which preprocessing steps are needed in order to help the model acheive the highest level of accuracy possible."
      ],
      "metadata": {
        "id": "AAG8gI_-6BBU"
      }
    },
    {
      "cell_type": "code",
      "source": [
        "data_dir = '/content/drive/MyDrive/Colab Notebooks/AAI-511/Final_Project/dataset/'"
      ],
      "metadata": {
        "id": "Fruw4JJD59iG"
      },
      "execution_count": null,
      "outputs": []
    },
    {
      "cell_type": "code",
      "source": [
        "# Load data for CNN training\n",
        "def process_midi_directory(directory):\n",
        "    pr_list = []\n",
        "    labels = []\n",
        "    composers = os.listdir(directory)\n",
        "    for composer in composers:\n",
        "        composer_dir = os.path.join(directory, composer)\n",
        "        if os.path.isdir(composer_dir):\n",
        "            for filename in os.listdir(composer_dir):\n",
        "                if filename.endswith('.mid') or filename.endswith('.midi'):\n",
        "                    midi_path = os.path.join(composer_dir, filename)\n",
        "                    midi_data = None\n",
        "                    try:\n",
        "                        midi_data = pretty_midi.PrettyMIDI(midi_path)\n",
        "                    except:\n",
        "                        print(midi_path)\n",
        "                        continue\n",
        "                    pr_list.append(midi_data)\n",
        "                    labels.append(composer)\n",
        "    return pr_list, labels\n",
        "\n",
        "songs, labels = process_midi_directory(data_dir)"
      ],
      "metadata": {
        "colab": {
          "base_uri": "https://localhost:8080/"
        },
        "id": "r5VigoaWiDAN",
        "outputId": "e339338a-be16-4939-c45d-d3dbce570414"
      },
      "execution_count": null,
      "outputs": [
        {
          "output_type": "stream",
          "name": "stdout",
          "text": [
            "/content/drive/MyDrive/Colab Notebooks/AAI-511/Final_Project/dataset/Mozart/K281 Piano Sonata n03 3mov.mid\n"
          ]
        },
        {
          "output_type": "stream",
          "name": "stderr",
          "text": [
            "/usr/local/lib/python3.10/dist-packages/pretty_midi/pretty_midi.py:100: RuntimeWarning: Tempo, Key or Time signature change events found on non-zero tracks.  This is not a valid type 0 or type 1 MIDI file.  Tempo, Key or Time Signature may be wrong.\n",
            "  warnings.warn(\n"
          ]
        },
        {
          "output_type": "stream",
          "name": "stdout",
          "text": [
            "/content/drive/MyDrive/Colab Notebooks/AAI-511/Final_Project/dataset/Beethoven/Anhang 14-3.mid\n"
          ]
        }
      ]
    },
    {
      "cell_type": "code",
      "source": [
        "labels = np.array(labels)\n",
        "\n",
        "unique, counts = np.unique(labels, return_counts=True)\n",
        "\n",
        "# Print counts of each unique value\n",
        "for value, count in zip(unique, counts):\n",
        "    print(f\"{value}  {count}\")"
      ],
      "metadata": {
        "colab": {
          "base_uri": "https://localhost:8080/"
        },
        "id": "ZoD7x7PvE8qx",
        "outputId": "2c5ce76e-8cfe-4c8d-8cbc-639aba125c28"
      },
      "execution_count": null,
      "outputs": [
        {
          "output_type": "stream",
          "name": "stdout",
          "text": [
            "Bach  925\n",
            "Beethoven  212\n",
            "Chopin  136\n",
            "Mozart  256\n"
          ]
        }
      ]
    },
    {
      "cell_type": "markdown",
      "source": [
        "### Collect Basic Info on each file\n",
        "The following function processes the stats of each midi file. This is intended to be called within a loop or on individual files to collect stats on a variety of information, such as total number of tracks, length of notes, tempo changes and other information that might be useful in the data preprocessing stages later in the training section."
      ],
      "metadata": {
        "id": "8jEj6kZA1eD-"
      }
    },
    {
      "cell_type": "code",
      "source": [
        "def process_midi_dataset(dataset_path):\n",
        "    \"\"\"\n",
        "    Process a dataset of MIDI files and aggregate the analysis results.\n",
        "\n",
        "    Parameters:\n",
        "        dataset_path (str): Path to the directory containing MIDI files.\n",
        "\n",
        "    Returns:\n",
        "        dict: Aggregated statistics and insights for the entire dataset.\n",
        "    \"\"\"\n",
        "    # Initialize aggregation containers\n",
        "    basic_stats = {\n",
        "        'total_tracks': 0,\n",
        "        'total_length_ticks': 0,\n",
        "        'total_notes': 0,\n",
        "        'unique_instruments': Counter()\n",
        "    }\n",
        "    note_distribution = Counter()\n",
        "    rhythmic_patterns = {\n",
        "        'average_note_durations': [],\n",
        "        'tempo_changes': [],\n",
        "        'time_signature_changes': Counter()\n",
        "    }\n",
        "    instrument_distribution = Counter()\n",
        "    velocity_dynamics = {\n",
        "        'average_velocities': [],\n",
        "        'max_velocities': [],\n",
        "        'min_velocities': [],\n",
        "        'velocity_distribution': Counter()\n",
        "    }\n",
        "\n",
        "    # Iterate over each MIDI file in the dataset\n",
        "    for root, _, files in os.walk(dataset_path):\n",
        "        for file in files:\n",
        "            if file.endswith('.mid'):\n",
        "                midi_file_path = os.path.join(root, file)\n",
        "\n",
        "                # Analyze basic statistics\n",
        "                stats = analyze_basic_midi_statistics(midi_file_path)\n",
        "                if stats is None:\n",
        "                  continue\n",
        "\n",
        "\n",
        "                basic_stats['total_tracks'] += stats['num_tracks']\n",
        "                basic_stats['total_length_ticks'] += stats['total_length_ticks']\n",
        "                basic_stats['total_notes'] += stats['total_notes']\n",
        "                basic_stats['unique_instruments'].update([stats['unique_instruments']])\n",
        "\n",
        "                # Analyze note distribution\n",
        "                note_counts = analyze_note_distribution(midi_file_path)\n",
        "                note_distribution.update(note_counts)\n",
        "\n",
        "                # Analyze rhythmic patterns\n",
        "                rhythm_analysis = analyze_rhythmic_patterns(midi_file_path)\n",
        "                rhythmic_patterns['average_note_durations'].append(rhythm_analysis['average_note_duration'])\n",
        "                rhythmic_patterns['tempo_changes'].extend(rhythm_analysis['tempo_changes'])\n",
        "                rhythmic_patterns['time_signature_changes'].update(rhythm_analysis['time_signature_changes'])\n",
        "\n",
        "                # Analyze instrument distribution\n",
        "                instrument_counts = analyze_instrument_distribution(midi_file_path)\n",
        "                instrument_distribution.update(instrument_counts)\n",
        "\n",
        "                # Analyze velocity dynamics\n",
        "                dynamics = analyze_velocity_dynamics(midi_file_path)\n",
        "                velocity_dynamics['average_velocities'].append(dynamics['average_velocity'])\n",
        "                velocity_dynamics['max_velocities'].append(dynamics['max_velocity'])\n",
        "                velocity_dynamics['min_velocities'].append(dynamics['min_velocity'])\n",
        "                velocity_dynamics['velocity_distribution'].update(dynamics['velocity_distribution'])\n",
        "\n",
        "    # Aggregate results\n",
        "    aggregated_results = {\n",
        "        'basic_stats': {\n",
        "            'total_tracks': basic_stats['total_tracks'],\n",
        "            'total_length_ticks': basic_stats['total_length_ticks'],\n",
        "            'total_notes': basic_stats['total_notes'],\n",
        "            'unique_instruments_count': len(basic_stats['unique_instruments']),\n",
        "            'average_instruments_per_file': np.mean(list(basic_stats['unique_instruments'].elements()))\n",
        "        },\n",
        "        'note_distribution': note_distribution,\n",
        "        'rhythmic_patterns': {\n",
        "            'average_note_duration': np.mean(rhythmic_patterns['average_note_durations']),\n",
        "            'total_tempo_changes': len(rhythmic_patterns['tempo_changes']),\n",
        "            'common_time_signatures': rhythmic_patterns['time_signature_changes'].most_common(3)\n",
        "        },\n",
        "        'instrument_distribution': instrument_distribution,\n",
        "        'velocity_dynamics': {\n",
        "            'average_velocity': np.mean(velocity_dynamics['average_velocities']) if velocity_dynamics['average_velocities'] else 0,  # Handle empty list\n",
        "            'max_velocity': np.max(velocity_dynamics['max_velocities']) if velocity_dynamics['max_velocities'] else 0,  # Handle empty list\n",
        "            'min_velocity': np.min(velocity_dynamics['min_velocities']) if velocity_dynamics['min_velocities'] else 0,  # Handle empty list\n",
        "            'common_velocities': velocity_dynamics['velocity_distribution'].most_common(3)\n",
        "        }\n",
        "    }\n",
        "\n",
        "    return aggregated_results"
      ],
      "metadata": {
        "id": "0xi8qsyb1f4o"
      },
      "execution_count": null,
      "outputs": []
    },
    {
      "cell_type": "code",
      "source": [
        "# Iterate through all the files in each directory to gather and agregate basic stats\n",
        "for folder_name in os.listdir(data_dir):\n",
        "    folder_path = os.path.join(data_dir, folder_name)\n",
        "    if os.path.isdir(folder_path):\n",
        "        print(f\"\\n--- Analyzing {folder_name} ---\")\n",
        "        aggregated_results = process_midi_dataset(folder_path)\n",
        "        print(\"Basic Statistics:\")\n",
        "        for key, value in aggregated_results['basic_stats'].items():\n",
        "            print(f\"  {key}: {value}\")\n",
        "\n",
        "# Iterate thorugh all the files in each directory to gather and aggregate Rythmic patterns\n",
        "for folder_name in os.listdir(data_dir):\n",
        "    folder_path = os.path.join(data_dir, folder_name)\n",
        "    if os.path.isdir(folder_path):\n",
        "        print(f\"\\n--- Analyzing {folder_name} ---\")\n",
        "        aggregated_results = process_midi_dataset(folder_path)\n",
        "        print(\"Rhythmic Patterns:\")\n",
        "        print(f\"  Average Note Duration: {aggregated_results['rhythmic_patterns']['average_note_duration']}\")\n",
        "        print(f\"  Total Tempo Changes: {aggregated_results['rhythmic_patterns']['total_tempo_changes']}\")\n",
        "        print(\"  Common Time Signatures:\")\n",
        "        for signature, count in aggregated_results['rhythmic_patterns']['common_time_signatures']:\n",
        "            print(f\"    {signature}: {count}\")\n",
        "\n",
        "# Loop through all the files and gather velocity information\n",
        "for folder_name in os.listdir(data_dir):\n",
        "    folder_path = os.path.join(data_dir, folder_name)\n",
        "    if os.path.isdir(folder_path):\n",
        "        print(f\"\\n--- Analyzing {folder_name} ---\")\n",
        "        aggregated_results = process_midi_dataset(folder_path)\n",
        "        print(\"Velocity Dynamics:\")\n",
        "        print(f\"  Average Velocity: {aggregated_results['velocity_dynamics']['average_velocity']}\")\n",
        "        print(f\"  Max Velocity: {aggregated_results['velocity_dynamics']['max_velocity']}\")\n",
        "        print(f\"  Min Velocity: {aggregated_results['velocity_dynamics']['min_velocity']}\")\n",
        "        print(\"  Common Velocities:\")\n",
        "        for velocity, count in aggregated_results['velocity_dynamics']['common_velocities']:\n",
        "            print(f\"    {velocity}: {count}\")"
      ],
      "metadata": {
        "id": "tNJAfLFb1gbZ"
      },
      "execution_count": null,
      "outputs": []
    },
    {
      "cell_type": "markdown",
      "source": [
        "--- Analyzing Mozart ---\n",
        "Error processing /content/drive/MyDrive/DataFiles/Mozart/Piano Sonatas/Nueva carpeta/K281 Piano Sonata n03 3mov.mid: Could not decode key with 2 flats and mode 2\n",
        "Basic Statistics:\n",
        "  total_tracks: 2843\n",
        "  total_length_ticks: 102645.93818738835\n",
        "  total_notes: 2406373\n",
        "  unique_instruments_count: 15\n",
        "  average_instruments_per_file: 6.48828125\n",
        "\n",
        "--- Analyzing Beethoven ---\n",
        "Error processing /content/drive/MyDrive/DataFiles/Beethoven/Anhang 14-3.mid: Could not decode key with 3 flats and mode 255\n",
        "Basic Statistics:\n",
        "  total_tracks: 1904\n",
        "  total_length_ticks: 107564.80470104773\n",
        "  total_notes: 2710371\n",
        "  unique_instruments_count: 15\n",
        "  average_instruments_per_file: 5.502369668246446\n",
        "\n",
        "--- Analyzing Chopin ---\n",
        "Basic Statistics:\n",
        "  total_tracks: 984\n",
        "  total_length_ticks: 30084.67425522962\n",
        "  total_notes: 577457\n",
        "  unique_instruments_count: 8\n",
        "  average_instruments_per_file: 1.75\n",
        "\n",
        "--- Analyzing Bach ---\n",
        "Basic Statistics:\n",
        "  total_tracks: 6347\n",
        "  total_length_ticks: 141267.42845187857\n",
        "  total_notes: 2413465\n",
        "  unique_instruments_count: 15\n",
        "  average_instruments_per_file: 4.513513513513513\n",
        "\n",
        "--- Analyzing Mozart ---\n",
        "Error processing /content/drive/MyDrive/DataFiles/Mozart/Piano Sonatas/Nueva carpeta/K281 Piano Sonata n03 3mov.mid: Could not decode key with 2 flats and mode 2\n",
        "Rhythmic Patterns:\n",
        "  Average Note Duration: 154.16814529988562\n",
        "  Total Tempo Changes: 50201\n",
        "  Common Time Signatures:\n",
        "    (0, (4, 4)): 107\n",
        "    (0, (3, 4)): 66\n",
        "    (0, (2, 4)): 41\n",
        "\n",
        "--- Analyzing Beethoven ---\n",
        "Error processing /content/drive/MyDrive/DataFiles/Beethoven/Anhang 14-3.mid: Could not decode key with 3 flats and mode 255\n",
        "Rhythmic Patterns:\n",
        "  Average Note Duration: 151.941871306076\n",
        "  Total Tempo Changes: 98209\n",
        "  Common Time Signatures:\n",
        "    (0, (4, 4)): 66\n",
        "    (0, (3, 4)): 54\n",
        "    (0, (2, 4)): 49\n",
        "\n",
        "--- Analyzing Chopin ---\n",
        "Rhythmic Patterns:\n",
        "  Average Note Duration: 196.19499200958035\n",
        "  Total Tempo Changes: 60078\n",
        "  Common Time Signatures:\n",
        "    (0, (4, 4)): 65\n",
        "    (0, (3, 4)): 33\n",
        "    (0, (6, 8)): 13\n",
        "\n",
        "--- Analyzing Bach ---\n",
        "Rhythmic Patterns:\n",
        "  Average Note Duration: 588.0900457570657\n",
        "  Total Tempo Changes: 17973\n",
        "  Common Time Signatures:\n",
        "    (0, (4, 4)): 603\n",
        "    (0, (3, 4)): 133\n",
        "    (0, (3, 8)): 32\n",
        "\n",
        "--- Analyzing Mozart ---\n",
        "Error processing /content/drive/MyDrive/DataFiles/Mozart/Piano Sonatas/Nueva carpeta/K281 Piano Sonata n03 3mov.mid: Could not decode key with 2 flats and mode 2\n",
        "Velocity Dynamics:\n",
        "  Average Velocity: 78.11665526582848\n",
        "  Max Velocity: 127\n",
        "  Min Velocity: 1\n",
        "  Common Velocities:\n",
        "    105: 149993\n",
        "    80: 90865\n",
        "    92: 67825\n",
        "\n",
        "--- Analyzing Beethoven ---\n",
        "Error processing /content/drive/MyDrive/DataFiles/Beethoven/Anhang 14-3.mid: Could not decode key with 3 flats and mode 255\n",
        "Velocity Dynamics:\n",
        "  Average Velocity: 72.43653391720528\n",
        "  Max Velocity: 127\n",
        "  Min Velocity: 1\n",
        "  Common Velocities:\n",
        "    100: 122493\n",
        "    127: 118553\n",
        "    45: 52094\n",
        "\n",
        "--- Analyzing Chopin ---\n",
        "Velocity Dynamics:\n",
        "  Average Velocity: 66.10959120036694\n",
        "  Max Velocity: 127\n",
        "  Min Velocity: 1\n",
        "  Common Velocities:\n",
        "    100: 16669\n",
        "    60: 9703\n",
        "    70: 7648\n",
        "\n",
        "--- Analyzing Bach ---\n",
        "Velocity Dynamics:\n",
        "  Average Velocity: 91.55126380691169\n",
        "  Max Velocity: 127\n",
        "  Min Velocity: 1\n",
        "  Common Velocities:\n",
        "    96: 329827\n",
        "    100: 225878\n",
        "    76: 153365\n"
      ],
      "metadata": {
        "id": "sxJlwEat1kPX"
      }
    },
    {
      "cell_type": "markdown",
      "source": [
        "### Visualizations\n",
        "This section is part of the EDA, and includes visuals on the piano roll, distribution of the data, and instrument distribution."
      ],
      "metadata": {
        "id": "wbwiYrNv0OLX"
      }
    },
    {
      "cell_type": "code",
      "source": [
        "def plot_piano_roll(piano_roll, start_pitch, end_pitch, fs=100):\n",
        "    # Use librosa's specshow function for displaying the piano roll\n",
        "    librosa.display.specshow(piano_roll[start_pitch:end_pitch],\n",
        "                             hop_length=1, sr=fs, x_axis='time', y_axis='cqt_note',\n",
        "                             fmin=pretty_midi.note_number_to_hz(start_pitch))\n",
        "\n",
        "example = songs[0].get_piano_roll(fs=100)\n",
        "plt.figure(figsize=(8, 4))\n",
        "plot_piano_roll(example, 56, 70)"
      ],
      "metadata": {
        "id": "AXUZFJ6d0Nvz",
        "colab": {
          "base_uri": "https://localhost:8080/",
          "height": 443
        },
        "outputId": "a93f18b2-1e58-44b9-b9ad-413ad0578c23"
      },
      "execution_count": null,
      "outputs": [
        {
          "output_type": "stream",
          "name": "stderr",
          "text": [
            "<ipython-input-8-d90b55345213>:3: UserWarning: Frequency axis exceeds Nyquist. Did you remember to set all spectrogram parameters in specshow?\n",
            "  librosa.display.specshow(piano_roll[start_pitch:end_pitch],\n"
          ]
        },
        {
          "output_type": "display_data",
          "data": {
            "text/plain": [
              "<Figure size 800x400 with 1 Axes>"
            ],
            "image/png": "[encoded data removed]"
          },
          "metadata": {}
        }
      ]
    },
    {
      "cell_type": "markdown",
      "source": [
        "## Preprocessing\n",
        "The following section works on preprocessing the data and transforming any features or files that are going to skew the results. The RNN and CNN models have different shape and size requirements, so they are broken into two sections. The CNN preprocessing includes padding the data, converting the midi file into piano roll, and using LabelBinarizer to transform the data. The RNN preprocessing includes augmenting the data, padding, applying windowing and flattening for processing within the LSTM model. Both split the data into training and testing sets."
      ],
      "metadata": {
        "id": "nEz3OSqmPNMr"
      }
    },
    {
      "cell_type": "markdown",
      "source": [
        "### CNN Preprocessing\n",
        "Piano roll format takes a lot of memory. We will create a custom data pipeline that converts the pretty midi object to piano roll, pad and scale it at training time."
      ],
      "metadata": {
        "id": "KvXV8NmR1xki"
      }
    },
    {
      "cell_type": "code",
      "source": [
        "encoder = OneHotEncoder(sparse=False)\n",
        "\n",
        "labels = labels.reshape(-1, 1)\n",
        "\n",
        "# Fit and transform\n",
        "y = encoder.fit_transform(labels)\n",
        "y = np.array(y, dtype='int')\n",
        "print(y)"
      ],
      "metadata": {
        "id": "wU2IvKUHJXG5",
        "colab": {
          "base_uri": "https://localhost:8080/"
        },
        "outputId": "0d5b8abf-5988-48d5-b0bf-a6dd93d7bda2"
      },
      "execution_count": null,
      "outputs": [
        {
          "output_type": "stream",
          "name": "stdout",
          "text": [
            "[[0 0 0 1]\n",
            " [0 0 0 1]\n",
            " [0 0 0 1]\n",
            " ...\n",
            " [0 1 0 0]\n",
            " [0 1 0 0]\n",
            " [0 1 0 0]]\n"
          ]
        },
        {
          "output_type": "stream",
          "name": "stderr",
          "text": [
            "/usr/local/lib/python3.10/dist-packages/sklearn/preprocessing/_encoders.py:975: FutureWarning: `sparse` was renamed to `sparse_output` in version 1.2 and will be removed in 1.4. `sparse_output` is ignored unless you leave `sparse` to its default value.\n",
            "  warnings.warn(\n"
          ]
        }
      ]
    },
    {
      "cell_type": "code",
      "source": [
        "def preprocess_piano_roll(piano_roll, max_time_steps):\n",
        "    # Pad the piano roll to the maximum length\n",
        "    padded_roll = np.zeros((128, max_time_steps))\n",
        "    num_time_steps = min(piano_roll.shape[1], max_time_steps)\n",
        "    padded_roll[:128, :num_time_steps] = piano_roll[:128, :num_time_steps]\n",
        "    scaled_roll = padded_roll.T / 127.0\n",
        "\n",
        "    # Storing as sparse matrix to save memory\n",
        "    piano_roll_sparse = csr_matrix(scaled_roll)\n",
        "    return piano_roll_sparse"
      ],
      "metadata": {
        "id": "HFSnVx9SPu79"
      },
      "execution_count": null,
      "outputs": []
    },
    {
      "cell_type": "code",
      "source": [
        "class piano_roll_Generator(Sequence):\n",
        "    def __init__(self, sparse_data, labels, batch_size):\n",
        "        self.sparse_data = sparse_data\n",
        "        self.labels = labels\n",
        "        self.batch_size = batch_size\n",
        "        self.num_samples = len(sparse_data)\n",
        "\n",
        "    def __len__(self):\n",
        "        return int(np.ceil(self.num_samples / self.batch_size))\n",
        "\n",
        "    def __getitem__(self, index):\n",
        "        start = index * self.batch_size\n",
        "        end = min(start + self.batch_size, self.num_samples)\n",
        "\n",
        "        batch_sparse = self.sparse_data[start:end]\n",
        "        batch_dense = [s.toarray() for s in batch_sparse]  # Convert batch to dense\n",
        "        batch_labels = self.labels[start:end]\n",
        "\n",
        "        return np.array(batch_dense), np.array(batch_labels)"
      ],
      "metadata": {
        "id": "MZ_8Pr7kOP50"
      },
      "execution_count": null,
      "outputs": []
    },
    {
      "cell_type": "code",
      "source": [
        "print(len(songs))"
      ],
      "metadata": {
        "colab": {
          "base_uri": "https://localhost:8080/"
        },
        "id": "XbzCSnhLdHJ5",
        "outputId": "81b500f2-75a1-495b-cabc-c277ace2ade1"
      },
      "execution_count": null,
      "outputs": [
        {
          "output_type": "stream",
          "name": "stdout",
          "text": [
            "1529\n"
          ]
        }
      ]
    },
    {
      "cell_type": "code",
      "source": [
        "X = []\n",
        "\n",
        "for song in songs:\n",
        "    piano_roll = song.get_piano_roll(fs=100)\n",
        "    preprocessed_roll = preprocess_piano_roll(piano_roll, 5000)\n",
        "    X.append(preprocessed_roll)\n",
        "\n",
        "X = np.array(X)"
      ],
      "metadata": {
        "id": "IkT45hmBby_q"
      },
      "execution_count": null,
      "outputs": []
    },
    {
      "cell_type": "code",
      "source": [
        "# Train test val split 60:20:20\n",
        "X_train, X_rest, y_train, y_rest = train_test_split(X, y, test_size=0.4, random_state=42)\n",
        "X_val, X_test, y_val, y_test = train_test_split(X_rest, y_rest, test_size=0.5, random_state=42)"
      ],
      "metadata": {
        "id": "9q6rgVcFcIqO"
      },
      "execution_count": null,
      "outputs": []
    },
    {
      "cell_type": "code",
      "source": [
        "print(X_train[0].shape)"
      ],
      "metadata": {
        "colab": {
          "base_uri": "https://localhost:8080/"
        },
        "id": "8NDiWamGp8CA",
        "outputId": "08fcda91-bed3-480c-a178-f3c0e6320d6e"
      },
      "execution_count": null,
      "outputs": [
        {
          "output_type": "stream",
          "name": "stdout",
          "text": [
            "(5000, 128)\n"
          ]
        }
      ]
    },
    {
      "cell_type": "code",
      "source": [
        "train_generator = piano_roll_Generator(X_train, y_train, batch_size=8)\n",
        "val_generator = piano_roll_Generator(X_val, y_val, batch_size=8)\n",
        "test_generator = piano_roll_Generator(X_test, y_test, batch_size=8)"
      ],
      "metadata": {
        "id": "uUE0f83IQjjk"
      },
      "execution_count": null,
      "outputs": []
    },
    {
      "cell_type": "markdown",
      "source": [
        "### RNN (LSTM)\n"
      ],
      "metadata": {
        "id": "4yZX06bX14wU"
      }
    },
    {
      "cell_type": "code",
      "source": [
        "# Basic loading of midi data, extraction of different features\n",
        "def load_midi_features(directory):\n",
        "    \"\"\"Loads MIDI files and extracts pitch, duration, and velocity features.\"\"\"\n",
        "    pitch_sequences = []\n",
        "    duration_sequences = []\n",
        "    velocity_sequences = []\n",
        "\n",
        "    for filename in os.listdir(directory):\n",
        "        if filename.endswith(\".mid\"):\n",
        "            midi_path = os.path.join(directory, filename)\n",
        "            try:\n",
        "                midi = pretty_midi.PrettyMIDI(midi_path)\n",
        "                for instrument in midi.instruments:\n",
        "                    pitches = [note.pitch for note in instrument.notes]\n",
        "                    durations = [note.end - note.start for note in instrument.notes]\n",
        "                    velocities = [note.velocity for note in instrument.notes]\n",
        "                    pitch_sequences.append(pitches)\n",
        "                    duration_sequences.append(durations)\n",
        "                    velocity_sequences.append(velocities)\n",
        "            except KeySignatureError as e:\n",
        "                print(f\"Skipping file {filename} due to KeySignatureError: {e}\")\n",
        "\n",
        "    return pitch_sequences, duration_sequences, velocity_sequences\n",
        "\n",
        "# Load features for each composer\n",
        "bach_pitches, bach_durations, bach_velocities = load_midi_features(\"/content/drive/MyDrive/DataFiles/Bach/\")\n",
        "mozart_pitches, mozart_durations, mozart_velocities = load_midi_features(\"/content/drive/MyDrive/DataFiles/Mozart/\")\n",
        "beethoven_pitches, beethoven_durations, beethoven_velocities = load_midi_features(\"/content/drive/MyDrive/DataFiles/Beethoven/\")\n",
        "chopin_pitches, chopin_durations, chopin_velocities = load_midi_features(\"/content/drive/MyDrive/DataFiles/Chopin/\")\n",
        "\n",
        "# Normalize the data so one feature does not skew the output\n",
        "def normalize_features(pitch_sequences, duration_sequences, velocity_sequences):\n",
        "    \"\"\"Normalizes pitches, durations, and velocities to a 0-1 range.\"\"\"\n",
        "    normalized_pitches = [[note / 127.0 for note in sequence] for sequence in pitch_sequences]\n",
        "    max_duration = max([max(durations) for durations in duration_sequences if durations])\n",
        "    normalized_durations = [[duration / max_duration for duration in sequence] for sequence in duration_sequences]\n",
        "    normalized_velocities = [[velocity / 127.0 for velocity in sequence] for sequence in velocity_sequences]\n",
        "\n",
        "    return normalized_pitches, normalized_durations, normalized_velocities\n",
        "\n",
        "# Normalize the features\n",
        "bach_pitches, bach_durations, bach_velocities = normalize_features(bach_pitches, bach_durations, bach_velocities)\n",
        "mozart_pitches, mozart_durations, mozart_velocities = normalize_features(mozart_pitches, mozart_durations, mozart_velocities)\n",
        "beethoven_pitches, beethoven_durations, beethoven_velocities = normalize_features(beethoven_pitches, beethoven_durations, beethoven_velocities)\n",
        "chopin_pitches, chopin_durations, chopin_velocities = normalize_features(chopin_pitches, chopin_durations, chopin_velocities)\n",
        "\n",
        "\n",
        "# Agument the data including sequence of notes and features\n",
        "def augment_sequence(sequence, num_augmentations=2):\n",
        "    \"\"\"Augments a note sequence by transposing and creating variations.\"\"\"\n",
        "    augmented_sequences = [sequence]\n",
        "    for _ in range(num_augmentations):\n",
        "        transpose_amount = random.randint(-5, 5)  # Transpose by up to 5 semitones\n",
        "        augmented_sequence = [[note[0] + transpose_amount, note[1], note[2]] for note in sequence] # Transpose only the pitch value (index 0)\n",
        "        augmented_sequences.append(augmented_sequence)\n",
        "    return augmented_sequences\n",
        "\n",
        "def combine_features(pitch_sequences, duration_sequences, velocity_sequences):\n",
        "    \"\"\"Combines pitch, duration, and velocity features into a single array.\"\"\"\n",
        "    combined_features = []\n",
        "    for pitches, durations, velocities in zip(pitch_sequences, duration_sequences, velocity_sequences):\n",
        "        sequence_length = min(len(pitches), len(durations), len(velocities))\n",
        "        combined_sequence = []\n",
        "        for i in range(sequence_length):\n",
        "            combined_sequence.append([pitches[i], durations[i], velocities[i]])\n",
        "        combined_features.append(combined_sequence)\n",
        "    return combined_features\n",
        "\n",
        "# Combine features for each composer\n",
        "combined_bach = combine_features(bach_pitches, bach_durations, bach_velocities)\n",
        "combined_mozart = combine_features(mozart_pitches, mozart_durations, mozart_velocities)\n",
        "combined_beethoven = combine_features(beethoven_pitches, beethoven_durations, beethoven_velocities)\n",
        "combined_chopin = combine_features(chopin_pitches, chopin_durations, chopin_velocities)\n",
        "\n",
        "# Augment combined data\n",
        "augmented_combined_bach = [seq for orig_seq in combined_bach for seq in augment_sequence(orig_seq)]\n",
        "augmented_combined_mozart = [seq for orig_seq in combined_mozart for seq in augment_sequence(orig_seq)]\n",
        "augmented_combined_beethoven = [seq for orig_seq in combined_beethoven for seq in augment_sequence(orig_seq)]\n",
        "augmented_combined_chopin = [seq for orig_seq in combined_chopin for seq in augment_sequence(orig_seq)]\n",
        "\n",
        "def augment_with_noise(sequence, noise_factor=0.01):\n",
        "    \"\"\"Adds noise to the sequence to create variation.\"\"\"\n",
        "    noisy_sequence = []\n",
        "    for note in sequence:\n",
        "        noisy_note = [\n",
        "            note[0] + random.uniform(-noise_factor, noise_factor),  # Pitch noise\n",
        "            note[1] + random.uniform(-noise_factor, noise_factor),  # Duration noise\n",
        "            note[2] + random.uniform(-noise_factor, noise_factor)   # Velocity noise\n",
        "        ]\n",
        "        noisy_sequence.append(noisy_note)\n",
        "    return noisy_sequence\n",
        "\n",
        "def augment_with_tempo(sequence, tempo_factor_range=(0.9, 1.1)):\n",
        "    \"\"\"Scales the tempo of the sequence.\"\"\"\n",
        "    tempo_factor = random.uniform(*tempo_factor_range)\n",
        "    tempo_scaled_sequence = [[note[0], note[1] * tempo_factor, note[2]] for note in sequence]\n",
        "    return tempo_scaled_sequence\n",
        "\n",
        "# Augment with noise and tempo scaling\n",
        "augmented_combined_bach.extend([augment_with_noise(seq) for seq in augmented_combined_bach])\n",
        "augmented_combined_bach.extend([augment_with_tempo(seq) for seq in augmented_combined_bach])\n",
        "\n",
        "augmented_combined_mozart.extend([augment_with_noise(seq) for seq in augmented_combined_mozart])\n",
        "augmented_combined_mozart.extend([augment_with_tempo(seq) for seq in augmented_combined_mozart])\n",
        "\n",
        "augmented_combined_beethoven.extend([augment_with_noise(seq) for seq in augmented_combined_beethoven])\n",
        "augmented_combined_beethoven.extend([augment_with_tempo(seq) for seq in augmented_combined_beethoven])\n",
        "\n",
        "augmented_combined_chopin.extend([augment_with_noise(seq) for seq in augmented_combined_chopin])\n",
        "augmented_combined_chopin.extend([augment_with_tempo(seq) for seq in augmented_combined_chopin])\n",
        "\n",
        "\n",
        "# Applying windowing to help the LSTM model sequentially process the data\n",
        "def create_windows(sequence, window_size, step_size=1):\n",
        "    \"\"\"Splits a sequence into overlapping windows.\"\"\"\n",
        "    windows = []\n",
        "    for start in range(0, len(sequence) - window_size + 1, step_size):\n",
        "        end = start + window_size\n",
        "        window = sequence[start:end]\n",
        "        windows.append(window)\n",
        "    return windows\n",
        "\n",
        "\n",
        "# Apply windowing to all sequences\n",
        "window_size = 50\n",
        "step_size = 20\n",
        "\n",
        "def apply_windowing(sequences, window_size, step_size=1):\n",
        "    windowed_sequences = []\n",
        "    for sequence in sequences:\n",
        "        windows = create_windows(sequence, window_size, step_size)\n",
        "        windowed_sequences.extend(windows)\n",
        "    return windowed_sequences\n",
        "\n",
        "# Apply windowing to each composer's dataset\n",
        "windowed_bach = apply_windowing(augmented_combined_bach, window_size, step_size)\n",
        "windowed_mozart = apply_windowing(augmented_combined_mozart, window_size, step_size)\n",
        "windowed_beethoven = apply_windowing(augmented_combined_beethoven, window_size, step_size)\n",
        "windowed_chopin = apply_windowing(augmented_combined_chopin, window_size, step_size)\n",
        "\n",
        "# Combine windowed data\n",
        "all_windowed_data = windowed_bach + windowed_mozart + windowed_beethoven + windowed_chopin\n",
        "\n",
        "# Update labels for each windowed sequence\n",
        "windowed_labels = [0] * len(windowed_bach) + [1] * len(windowed_mozart) + \\\n",
        "                  [2] * len(windowed_beethoven) + [3] * len(windowed_chopin)\n",
        "\n",
        "# Flatten windowed data to extract unique pitches\n",
        "flattened_data = [note[0] for sequence in all_windowed_data for note in sequence]\n",
        "\n",
        "# Tokenize the note pitches\n",
        "all_pitches = sorted(set(flattened_data))\n",
        "note_to_int = {note: number for number, note in enumerate(all_pitches)}\n",
        "\n",
        "# Convert note sequences to integer sequences\n",
        "tokenized_data = [[note_to_int[note[0]] for note in sequence] for sequence in all_windowed_data]\n",
        "\n",
        "# Pad sequences to ensure consistent input shape\n",
        "X = pad_sequences(tokenized_data, maxlen=window_size, padding='post')\n",
        "\n",
        "# Convert labels to one-hot encoding\n",
        "labels = to_categorical(windowed_labels)"
      ],
      "metadata": {
        "id": "aAMzzT6q16CK"
      },
      "execution_count": null,
      "outputs": []
    },
    {
      "cell_type": "code",
      "source": [
        "# Split data into training and testing sets\n",
        "X_train_rnn, X_test_rnn, y_train_rnn, y_test_rnn = train_test_split(X, labels, test_size=0.2, random_state=42)"
      ],
      "metadata": {
        "id": "tH_xLs-J17b4"
      },
      "execution_count": null,
      "outputs": []
    },
    {
      "cell_type": "markdown",
      "source": [
        "## Model Construction\n",
        "The following section defines the two different models as well as their training and results."
      ],
      "metadata": {
        "id": "TGI33yHJ18m_"
      }
    },
    {
      "cell_type": "markdown",
      "source": [
        "### CNN Model Training and Metrics\n"
      ],
      "metadata": {
        "id": "S0foVSZt2Ae-"
      }
    },
    {
      "cell_type": "code",
      "source": [
        "CNNmodel = tf.keras.Sequential([\n",
        "    tf.keras.layers.Conv2D(32, (3,3), activation='relu',\n",
        "                           kernel_regularizer=tf.keras.regularizers.L2(0.01),\n",
        "                           input_shape=(5000, 128, 1)),\n",
        "    tf.keras.layers.Conv2D(32, (3,3), activation='relu',\n",
        "                           kernel_regularizer=tf.keras.regularizers.L2(0.01)),\n",
        "    tf.keras.layers.MaxPooling2D((2,2)),\n",
        "    tf.keras.layers.Conv2D(64, (3,3), activation='relu',\n",
        "                           kernel_regularizer=tf.keras.regularizers.L2(0.01)),\n",
        "    tf.keras.layers.Conv2D(64, (3,3), activation='relu',\n",
        "                           kernel_regularizer=tf.keras.regularizers.L2(0.01)),\n",
        "    tf.keras.layers.MaxPooling2D((2,2)),\n",
        "    tf.keras.layers.Conv2D(128, (3,3), activation='relu',\n",
        "                           kernel_regularizer=tf.keras.regularizers.L2(0.01)),\n",
        "    tf.keras.layers.Conv2D(128, (3,3), activation='relu',\n",
        "                           kernel_regularizer=tf.keras.regularizers.L2(0.01)),\n",
        "    tf.keras.layers.MaxPooling2D((2,2)),\n",
        "    tf.keras.layers.BatchNormalization(),\n",
        "    tf.keras.layers.Flatten(),\n",
        "    tf.keras.layers.Dense(256, activation='relu'),\n",
        "    tf.keras.layers.Dense(128, activation='relu'),\n",
        "    tf.keras.layers.Dropout(0.5),\n",
        "    tf.keras.layers.Dense(4, activation='softmax')\n",
        "])\n",
        "\n",
        "# Compile the model\n",
        "optimizer = tf.keras.optimizers.Adam(learning_rate=0.001)\n",
        "CNNmodel.compile(optimizer=optimizer,\n",
        "              loss='categorical_crossentropy',\n",
        "              metrics=['accuracy'])\n",
        "\n",
        "CNNmodel.summary()"
      ],
      "metadata": {
        "colab": {
          "base_uri": "https://localhost:8080/",
          "height": 689
        },
        "id": "33T8cwvsUbHU",
        "outputId": "5300025e-32a2-47e0-8127-73a1b52d88cc"
      },
      "execution_count": null,
      "outputs": [
        {
          "output_type": "stream",
          "name": "stderr",
          "text": [
            "/usr/local/lib/python3.10/dist-packages/keras/src/layers/convolutional/base_conv.py:107: UserWarning: Do not pass an `input_shape`/`input_dim` argument to a layer. When using Sequential models, prefer using an `Input(shape)` object as the first layer in the model instead.\n",
            "  super().__init__(activity_regularizer=activity_regularizer, **kwargs)\n"
          ]
        },
        {
          "output_type": "display_data",
          "data": {
            "text/plain": [
              "\u001b[1mModel: \"sequential\"\u001b[0m\n"
            ],
            "text/html": [
              "<pre style=\"white-space:pre;overflow-x:auto;line-height:normal;font-family:Menlo,'DejaVu Sans Mono',consolas,'Courier New',monospace\"><span style=\"font-weight: bold\">Model: \"sequential\"</span>\n",
              "</pre>\n"
            ]
          },
          "metadata": {}
        },
        {
          "output_type": "display_data",
          "data": {
            "text/plain": [
              "┏━━━━━━━━━━━━━━━━━━━━━━━━━━━━━━━━━━━━━━┳━━━━━━━━━━━━━━━━━━━━━━━━━━━━━┳━━━━━━━━━━━━━━━━━┓\n",
              "┃\u001b[1m \u001b[0m\u001b[1mLayer (type)                        \u001b[0m\u001b[1m \u001b[0m┃\u001b[1m \u001b[0m\u001b[1mOutput Shape               \u001b[0m\u001b[1m \u001b[0m┃\u001b[1m \u001b[0m\u001b[1m        Param #\u001b[0m\u001b[1m \u001b[0m┃\n",
              "┡━━━━━━━━━━━━━━━━━━━━━━━━━━━━━━━━━━━━━━╇━━━━━━━━━━━━━━━━━━━━━━━━━━━━━╇━━━━━━━━━━━━━━━━━┩\n",
              "│ conv2d (\u001b[38;5;33mConv2D\u001b[0m)                      │ (\u001b[38;5;45mNone\u001b[0m, \u001b[38;5;34m4998\u001b[0m, \u001b[38;5;34m126\u001b[0m, \u001b[38;5;34m32\u001b[0m)       │             \u001b[38;5;34m320\u001b[0m │\n",
              "├──────────────────────────────────────┼─────────────────────────────┼─────────────────┤\n",
              "│ conv2d_1 (\u001b[38;5;33mConv2D\u001b[0m)                    │ (\u001b[38;5;45mNone\u001b[0m, \u001b[38;5;34m4996\u001b[0m, \u001b[38;5;34m124\u001b[0m, \u001b[38;5;34m32\u001b[0m)       │           \u001b[38;5;34m9,248\u001b[0m │\n",
              "├──────────────────────────────────────┼─────────────────────────────┼─────────────────┤\n",
              "│ max_pooling2d (\u001b[38;5;33mMaxPooling2D\u001b[0m)         │ (\u001b[38;5;45mNone\u001b[0m, \u001b[38;5;34m2498\u001b[0m, \u001b[38;5;34m62\u001b[0m, \u001b[38;5;34m32\u001b[0m)        │               \u001b[38;5;34m0\u001b[0m │\n",
              "├──────────────────────────────────────┼─────────────────────────────┼─────────────────┤\n",
              "│ conv2d_2 (\u001b[38;5;33mConv2D\u001b[0m)                    │ (\u001b[38;5;45mNone\u001b[0m, \u001b[38;5;34m2496\u001b[0m, \u001b[38;5;34m60\u001b[0m, \u001b[38;5;34m64\u001b[0m)        │          \u001b[38;5;34m18,496\u001b[0m │\n",
              "├──────────────────────────────────────┼─────────────────────────────┼─────────────────┤\n",
              "│ conv2d_3 (\u001b[38;5;33mConv2D\u001b[0m)                    │ (\u001b[38;5;45mNone\u001b[0m, \u001b[38;5;34m2494\u001b[0m, \u001b[38;5;34m58\u001b[0m, \u001b[38;5;34m64\u001b[0m)        │          \u001b[38;5;34m36,928\u001b[0m │\n",
              "├──────────────────────────────────────┼─────────────────────────────┼─────────────────┤\n",
              "│ max_pooling2d_1 (\u001b[38;5;33mMaxPooling2D\u001b[0m)       │ (\u001b[38;5;45mNone\u001b[0m, \u001b[38;5;34m1247\u001b[0m, \u001b[38;5;34m29\u001b[0m, \u001b[38;5;34m64\u001b[0m)        │               \u001b[38;5;34m0\u001b[0m │\n",
              "├──────────────────────────────────────┼─────────────────────────────┼─────────────────┤\n",
              "│ conv2d_4 (\u001b[38;5;33mConv2D\u001b[0m)                    │ (\u001b[38;5;45mNone\u001b[0m, \u001b[38;5;34m1245\u001b[0m, \u001b[38;5;34m27\u001b[0m, \u001b[38;5;34m128\u001b[0m)       │          \u001b[38;5;34m73,856\u001b[0m │\n",
              "├──────────────────────────────────────┼─────────────────────────────┼─────────────────┤\n",
              "│ conv2d_5 (\u001b[38;5;33mConv2D\u001b[0m)                    │ (\u001b[38;5;45mNone\u001b[0m, \u001b[38;5;34m1243\u001b[0m, \u001b[38;5;34m25\u001b[0m, \u001b[38;5;34m128\u001b[0m)       │         \u001b[38;5;34m147,584\u001b[0m │\n",
              "├──────────────────────────────────────┼─────────────────────────────┼─────────────────┤\n",
              "│ max_pooling2d_2 (\u001b[38;5;33mMaxPooling2D\u001b[0m)       │ (\u001b[38;5;45mNone\u001b[0m, \u001b[38;5;34m621\u001b[0m, \u001b[38;5;34m12\u001b[0m, \u001b[38;5;34m128\u001b[0m)        │               \u001b[38;5;34m0\u001b[0m │\n",
              "├──────────────────────────────────────┼─────────────────────────────┼─────────────────┤\n",
              "│ batch_normalization                  │ (\u001b[38;5;45mNone\u001b[0m, \u001b[38;5;34m621\u001b[0m, \u001b[38;5;34m12\u001b[0m, \u001b[38;5;34m128\u001b[0m)        │             \u001b[38;5;34m512\u001b[0m │\n",
              "│ (\u001b[38;5;33mBatchNormalization\u001b[0m)                 │                             │                 │\n",
              "├──────────────────────────────────────┼─────────────────────────────┼─────────────────┤\n",
              "│ flatten (\u001b[38;5;33mFlatten\u001b[0m)                    │ (\u001b[38;5;45mNone\u001b[0m, \u001b[38;5;34m953856\u001b[0m)              │               \u001b[38;5;34m0\u001b[0m │\n",
              "├──────────────────────────────────────┼─────────────────────────────┼─────────────────┤\n",
              "│ dense (\u001b[38;5;33mDense\u001b[0m)                        │ (\u001b[38;5;45mNone\u001b[0m, \u001b[38;5;34m256\u001b[0m)                 │     \u001b[38;5;34m244,187,392\u001b[0m │\n",
              "├──────────────────────────────────────┼─────────────────────────────┼─────────────────┤\n",
              "│ dense_1 (\u001b[38;5;33mDense\u001b[0m)                      │ (\u001b[38;5;45mNone\u001b[0m, \u001b[38;5;34m128\u001b[0m)                 │          \u001b[38;5;34m32,896\u001b[0m │\n",
              "├──────────────────────────────────────┼─────────────────────────────┼─────────────────┤\n",
              "│ dropout (\u001b[38;5;33mDropout\u001b[0m)                    │ (\u001b[38;5;45mNone\u001b[0m, \u001b[38;5;34m128\u001b[0m)                 │               \u001b[38;5;34m0\u001b[0m │\n",
              "├──────────────────────────────────────┼─────────────────────────────┼─────────────────┤\n",
              "│ dense_2 (\u001b[38;5;33mDense\u001b[0m)                      │ (\u001b[38;5;45mNone\u001b[0m, \u001b[38;5;34m4\u001b[0m)                   │             \u001b[38;5;34m516\u001b[0m │\n",
              "└──────────────────────────────────────┴─────────────────────────────┴─────────────────┘\n"
            ],
            "text/html": [
              "<pre style=\"white-space:pre;overflow-x:auto;line-height:normal;font-family:Menlo,'DejaVu Sans Mono',consolas,'Courier New',monospace\">┏━━━━━━━━━━━━━━━━━━━━━━━━━━━━━━━━━━━━━━┳━━━━━━━━━━━━━━━━━━━━━━━━━━━━━┳━━━━━━━━━━━━━━━━━┓\n",
              "┃<span style=\"font-weight: bold\"> Layer (type)                         </span>┃<span style=\"font-weight: bold\"> Output Shape                </span>┃<span style=\"font-weight: bold\">         Param # </span>┃\n",
              "┡━━━━━━━━━━━━━━━━━━━━━━━━━━━━━━━━━━━━━━╇━━━━━━━━━━━━━━━━━━━━━━━━━━━━━╇━━━━━━━━━━━━━━━━━┩\n",
              "│ conv2d (<span style=\"color: #0087ff; text-decoration-color: #0087ff\">Conv2D</span>)                      │ (<span style=\"color: #00d7ff; text-decoration-color: #00d7ff\">None</span>, <span style=\"color: #00af00; text-decoration-color: #00af00\">4998</span>, <span style=\"color: #00af00; text-decoration-color: #00af00\">126</span>, <span style=\"color: #00af00; text-decoration-color: #00af00\">32</span>)       │             <span style=\"color: #00af00; text-decoration-color: #00af00\">320</span> │\n",
              "├──────────────────────────────────────┼─────────────────────────────┼─────────────────┤\n",
              "│ conv2d_1 (<span style=\"color: #0087ff; text-decoration-color: #0087ff\">Conv2D</span>)                    │ (<span style=\"color: #00d7ff; text-decoration-color: #00d7ff\">None</span>, <span style=\"color: #00af00; text-decoration-color: #00af00\">4996</span>, <span style=\"color: #00af00; text-decoration-color: #00af00\">124</span>, <span style=\"color: #00af00; text-decoration-color: #00af00\">32</span>)       │           <span style=\"color: #00af00; text-decoration-color: #00af00\">9,248</span> │\n",
              "├──────────────────────────────────────┼─────────────────────────────┼─────────────────┤\n",
              "│ max_pooling2d (<span style=\"color: #0087ff; text-decoration-color: #0087ff\">MaxPooling2D</span>)         │ (<span style=\"color: #00d7ff; text-decoration-color: #00d7ff\">None</span>, <span style=\"color: #00af00; text-decoration-color: #00af00\">2498</span>, <span style=\"color: #00af00; text-decoration-color: #00af00\">62</span>, <span style=\"color: #00af00; text-decoration-color: #00af00\">32</span>)        │               <span style=\"color: #00af00; text-decoration-color: #00af00\">0</span> │\n",
              "├──────────────────────────────────────┼─────────────────────────────┼─────────────────┤\n",
              "│ conv2d_2 (<span style=\"color: #0087ff; text-decoration-color: #0087ff\">Conv2D</span>)                    │ (<span style=\"color: #00d7ff; text-decoration-color: #00d7ff\">None</span>, <span style=\"color: #00af00; text-decoration-color: #00af00\">2496</span>, <span style=\"color: #00af00; text-decoration-color: #00af00\">60</span>, <span style=\"color: #00af00; text-decoration-color: #00af00\">64</span>)        │          <span style=\"color: #00af00; text-decoration-color: #00af00\">18,496</span> │\n",
              "├──────────────────────────────────────┼─────────────────────────────┼─────────────────┤\n",
              "│ conv2d_3 (<span style=\"color: #0087ff; text-decoration-color: #0087ff\">Conv2D</span>)                    │ (<span style=\"color: #00d7ff; text-decoration-color: #00d7ff\">None</span>, <span style=\"color: #00af00; text-decoration-color: #00af00\">2494</span>, <span style=\"color: #00af00; text-decoration-color: #00af00\">58</span>, <span style=\"color: #00af00; text-decoration-color: #00af00\">64</span>)        │          <span style=\"color: #00af00; text-decoration-color: #00af00\">36,928</span> │\n",
              "├──────────────────────────────────────┼─────────────────────────────┼─────────────────┤\n",
              "│ max_pooling2d_1 (<span style=\"color: #0087ff; text-decoration-color: #0087ff\">MaxPooling2D</span>)       │ (<span style=\"color: #00d7ff; text-decoration-color: #00d7ff\">None</span>, <span style=\"color: #00af00; text-decoration-color: #00af00\">1247</span>, <span style=\"color: #00af00; text-decoration-color: #00af00\">29</span>, <span style=\"color: #00af00; text-decoration-color: #00af00\">64</span>)        │               <span style=\"color: #00af00; text-decoration-color: #00af00\">0</span> │\n",
              "├──────────────────────────────────────┼─────────────────────────────┼─────────────────┤\n",
              "│ conv2d_4 (<span style=\"color: #0087ff; text-decoration-color: #0087ff\">Conv2D</span>)                    │ (<span style=\"color: #00d7ff; text-decoration-color: #00d7ff\">None</span>, <span style=\"color: #00af00; text-decoration-color: #00af00\">1245</span>, <span style=\"color: #00af00; text-decoration-color: #00af00\">27</span>, <span style=\"color: #00af00; text-decoration-color: #00af00\">128</span>)       │          <span style=\"color: #00af00; text-decoration-color: #00af00\">73,856</span> │\n",
              "├──────────────────────────────────────┼─────────────────────────────┼─────────────────┤\n",
              "│ conv2d_5 (<span style=\"color: #0087ff; text-decoration-color: #0087ff\">Conv2D</span>)                    │ (<span style=\"color: #00d7ff; text-decoration-color: #00d7ff\">None</span>, <span style=\"color: #00af00; text-decoration-color: #00af00\">1243</span>, <span style=\"color: #00af00; text-decoration-color: #00af00\">25</span>, <span style=\"color: #00af00; text-decoration-color: #00af00\">128</span>)       │         <span style=\"color: #00af00; text-decoration-color: #00af00\">147,584</span> │\n",
              "├──────────────────────────────────────┼─────────────────────────────┼─────────────────┤\n",
              "│ max_pooling2d_2 (<span style=\"color: #0087ff; text-decoration-color: #0087ff\">MaxPooling2D</span>)       │ (<span style=\"color: #00d7ff; text-decoration-color: #00d7ff\">None</span>, <span style=\"color: #00af00; text-decoration-color: #00af00\">621</span>, <span style=\"color: #00af00; text-decoration-color: #00af00\">12</span>, <span style=\"color: #00af00; text-decoration-color: #00af00\">128</span>)        │               <span style=\"color: #00af00; text-decoration-color: #00af00\">0</span> │\n",
              "├──────────────────────────────────────┼─────────────────────────────┼─────────────────┤\n",
              "│ batch_normalization                  │ (<span style=\"color: #00d7ff; text-decoration-color: #00d7ff\">None</span>, <span style=\"color: #00af00; text-decoration-color: #00af00\">621</span>, <span style=\"color: #00af00; text-decoration-color: #00af00\">12</span>, <span style=\"color: #00af00; text-decoration-color: #00af00\">128</span>)        │             <span style=\"color: #00af00; text-decoration-color: #00af00\">512</span> │\n",
              "│ (<span style=\"color: #0087ff; text-decoration-color: #0087ff\">BatchNormalization</span>)                 │                             │                 │\n",
              "├──────────────────────────────────────┼─────────────────────────────┼─────────────────┤\n",
              "│ flatten (<span style=\"color: #0087ff; text-decoration-color: #0087ff\">Flatten</span>)                    │ (<span style=\"color: #00d7ff; text-decoration-color: #00d7ff\">None</span>, <span style=\"color: #00af00; text-decoration-color: #00af00\">953856</span>)              │               <span style=\"color: #00af00; text-decoration-color: #00af00\">0</span> │\n",
              "├──────────────────────────────────────┼─────────────────────────────┼─────────────────┤\n",
              "│ dense (<span style=\"color: #0087ff; text-decoration-color: #0087ff\">Dense</span>)                        │ (<span style=\"color: #00d7ff; text-decoration-color: #00d7ff\">None</span>, <span style=\"color: #00af00; text-decoration-color: #00af00\">256</span>)                 │     <span style=\"color: #00af00; text-decoration-color: #00af00\">244,187,392</span> │\n",
              "├──────────────────────────────────────┼─────────────────────────────┼─────────────────┤\n",
              "│ dense_1 (<span style=\"color: #0087ff; text-decoration-color: #0087ff\">Dense</span>)                      │ (<span style=\"color: #00d7ff; text-decoration-color: #00d7ff\">None</span>, <span style=\"color: #00af00; text-decoration-color: #00af00\">128</span>)                 │          <span style=\"color: #00af00; text-decoration-color: #00af00\">32,896</span> │\n",
              "├──────────────────────────────────────┼─────────────────────────────┼─────────────────┤\n",
              "│ dropout (<span style=\"color: #0087ff; text-decoration-color: #0087ff\">Dropout</span>)                    │ (<span style=\"color: #00d7ff; text-decoration-color: #00d7ff\">None</span>, <span style=\"color: #00af00; text-decoration-color: #00af00\">128</span>)                 │               <span style=\"color: #00af00; text-decoration-color: #00af00\">0</span> │\n",
              "├──────────────────────────────────────┼─────────────────────────────┼─────────────────┤\n",
              "│ dense_2 (<span style=\"color: #0087ff; text-decoration-color: #0087ff\">Dense</span>)                      │ (<span style=\"color: #00d7ff; text-decoration-color: #00d7ff\">None</span>, <span style=\"color: #00af00; text-decoration-color: #00af00\">4</span>)                   │             <span style=\"color: #00af00; text-decoration-color: #00af00\">516</span> │\n",
              "└──────────────────────────────────────┴─────────────────────────────┴─────────────────┘\n",
              "</pre>\n"
            ]
          },
          "metadata": {}
        },
        {
          "output_type": "display_data",
          "data": {
            "text/plain": [
              "\u001b[1m Total params: \u001b[0m\u001b[38;5;34m244,507,748\u001b[0m (932.72 MB)\n"
            ],
            "text/html": [
              "<pre style=\"white-space:pre;overflow-x:auto;line-height:normal;font-family:Menlo,'DejaVu Sans Mono',consolas,'Courier New',monospace\"><span style=\"font-weight: bold\"> Total params: </span><span style=\"color: #00af00; text-decoration-color: #00af00\">244,507,748</span> (932.72 MB)\n",
              "</pre>\n"
            ]
          },
          "metadata": {}
        },
        {
          "output_type": "display_data",
          "data": {
            "text/plain": [
              "\u001b[1m Trainable params: \u001b[0m\u001b[38;5;34m244,507,492\u001b[0m (932.72 MB)\n"
            ],
            "text/html": [
              "<pre style=\"white-space:pre;overflow-x:auto;line-height:normal;font-family:Menlo,'DejaVu Sans Mono',consolas,'Courier New',monospace\"><span style=\"font-weight: bold\"> Trainable params: </span><span style=\"color: #00af00; text-decoration-color: #00af00\">244,507,492</span> (932.72 MB)\n",
              "</pre>\n"
            ]
          },
          "metadata": {}
        },
        {
          "output_type": "display_data",
          "data": {
            "text/plain": [
              "\u001b[1m Non-trainable params: \u001b[0m\u001b[38;5;34m256\u001b[0m (1.00 KB)\n"
            ],
            "text/html": [
              "<pre style=\"white-space:pre;overflow-x:auto;line-height:normal;font-family:Menlo,'DejaVu Sans Mono',consolas,'Courier New',monospace\"><span style=\"font-weight: bold\"> Non-trainable params: </span><span style=\"color: #00af00; text-decoration-color: #00af00\">256</span> (1.00 KB)\n",
              "</pre>\n"
            ]
          },
          "metadata": {}
        }
      ]
    },
    {
      "cell_type": "code",
      "source": [
        "history = CNNmodel.fit(train_generator, validation_data=val_generator, epochs=20)"
      ],
      "metadata": {
        "colab": {
          "base_uri": "https://localhost:8080/"
        },
        "id": "aylMQQgESJAa",
        "outputId": "94834ab8-e64e-4635-acd4-193bf17beabe"
      },
      "execution_count": null,
      "outputs": [
        {
          "output_type": "stream",
          "name": "stdout",
          "text": [
            "Epoch 1/20\n"
          ]
        },
        {
          "output_type": "stream",
          "name": "stderr",
          "text": [
            "/usr/local/lib/python3.10/dist-packages/keras/src/trainers/data_adapters/py_dataset_adapter.py:121: UserWarning: Your `PyDataset` class should call `super().__init__(**kwargs)` in its constructor. `**kwargs` can include `workers`, `use_multiprocessing`, `max_queue_size`. Do not pass these arguments to `fit()`, as they will be ignored.\n",
            "  self._warn_if_super_not_called()\n"
          ]
        },
        {
          "output_type": "stream",
          "name": "stdout",
          "text": [
            "\u001b[1m115/115\u001b[0m \u001b[32m━━━━━━━━━━━━━━━━━━━━\u001b[0m\u001b[37m\u001b[0m \u001b[1m98s\u001b[0m 545ms/step - accuracy: 0.4823 - loss: 6.9931 - val_accuracy: 0.6503 - val_loss: 3.4440\n",
            "Epoch 2/20\n",
            "\u001b[1m115/115\u001b[0m \u001b[32m━━━━━━━━━━━━━━━━━━━━\u001b[0m\u001b[37m\u001b[0m \u001b[1m31s\u001b[0m 266ms/step - accuracy: 0.5945 - loss: 3.0826 - val_accuracy: 0.1209 - val_loss: 3.6605\n",
            "Epoch 3/20\n",
            "\u001b[1m115/115\u001b[0m \u001b[32m━━━━━━━━━━━━━━━━━━━━\u001b[0m\u001b[37m\u001b[0m \u001b[1m31s\u001b[0m 268ms/step - accuracy: 0.6703 - loss: 2.4209 - val_accuracy: 0.1601 - val_loss: 2.7397\n",
            "Epoch 4/20\n",
            "\u001b[1m115/115\u001b[0m \u001b[32m━━━━━━━━━━━━━━━━━━━━\u001b[0m\u001b[37m\u001b[0m \u001b[1m31s\u001b[0m 266ms/step - accuracy: 0.7096 - loss: 2.0217 - val_accuracy: 0.6503 - val_loss: 2.9826\n",
            "Epoch 5/20\n",
            "\u001b[1m115/115\u001b[0m \u001b[32m━━━━━━━━━━━━━━━━━━━━\u001b[0m\u001b[37m\u001b[0m \u001b[1m31s\u001b[0m 266ms/step - accuracy: 0.7949 - loss: 1.6616 - val_accuracy: 0.6503 - val_loss: 5.7123\n",
            "Epoch 6/20\n",
            "\u001b[1m115/115\u001b[0m \u001b[32m━━━━━━━━━━━━━━━━━━━━\u001b[0m\u001b[37m\u001b[0m \u001b[1m31s\u001b[0m 267ms/step - accuracy: 0.8539 - loss: 1.3360 - val_accuracy: 0.6242 - val_loss: 2.4309\n",
            "Epoch 7/20\n",
            "\u001b[1m115/115\u001b[0m \u001b[32m━━━━━━━━━━━━━━━━━━━━\u001b[0m\u001b[37m\u001b[0m \u001b[1m31s\u001b[0m 266ms/step - accuracy: 0.8949 - loss: 1.1734 - val_accuracy: 0.6732 - val_loss: 3.6693\n",
            "Epoch 8/20\n",
            "\u001b[1m115/115\u001b[0m \u001b[32m━━━━━━━━━━━━━━━━━━━━\u001b[0m\u001b[37m\u001b[0m \u001b[1m31s\u001b[0m 266ms/step - accuracy: 0.9176 - loss: 0.9389 - val_accuracy: 0.1373 - val_loss: 28.5801\n",
            "Epoch 9/20\n",
            "\u001b[1m115/115\u001b[0m \u001b[32m━━━━━━━━━━━━━━━━━━━━\u001b[0m\u001b[37m\u001b[0m \u001b[1m31s\u001b[0m 266ms/step - accuracy: 0.9144 - loss: 0.8754 - val_accuracy: 0.6503 - val_loss: 41.5349\n",
            "Epoch 10/20\n",
            "\u001b[1m115/115\u001b[0m \u001b[32m━━━━━━━━━━━━━━━━━━━━\u001b[0m\u001b[37m\u001b[0m \u001b[1m31s\u001b[0m 267ms/step - accuracy: 0.9629 - loss: 0.6252 - val_accuracy: 0.1438 - val_loss: 27.5489\n",
            "Epoch 11/20\n",
            "\u001b[1m115/115\u001b[0m \u001b[32m━━━━━━━━━━━━━━━━━━━━\u001b[0m\u001b[37m\u001b[0m \u001b[1m31s\u001b[0m 266ms/step - accuracy: 0.9565 - loss: 0.6083 - val_accuracy: 0.6732 - val_loss: 5.5784\n",
            "Epoch 12/20\n",
            "\u001b[1m115/115\u001b[0m \u001b[32m━━━━━━━━━━━━━━━━━━━━\u001b[0m\u001b[37m\u001b[0m \u001b[1m31s\u001b[0m 266ms/step - accuracy: 0.9739 - loss: 0.4523 - val_accuracy: 0.3758 - val_loss: 4.4463\n",
            "Epoch 13/20\n",
            "\u001b[1m115/115\u001b[0m \u001b[32m━━━━━━━━━━━━━━━━━━━━\u001b[0m\u001b[37m\u001b[0m \u001b[1m31s\u001b[0m 266ms/step - accuracy: 0.9857 - loss: 0.3925 - val_accuracy: 0.6569 - val_loss: 16.4452\n",
            "Epoch 14/20\n",
            "\u001b[1m115/115\u001b[0m \u001b[32m━━━━━━━━━━━━━━━━━━━━\u001b[0m\u001b[37m\u001b[0m \u001b[1m31s\u001b[0m 266ms/step - accuracy: 0.8755 - loss: 1.0502 - val_accuracy: 0.7092 - val_loss: 33.1313\n",
            "Epoch 15/20\n",
            "\u001b[1m115/115\u001b[0m \u001b[32m━━━━━━━━━━━━━━━━━━━━\u001b[0m\u001b[37m\u001b[0m \u001b[1m31s\u001b[0m 264ms/step - accuracy: 0.9312 - loss: 0.5269 - val_accuracy: 0.6503 - val_loss: 63.2944\n",
            "Epoch 16/20\n",
            "\u001b[1m115/115\u001b[0m \u001b[32m━━━━━━━━━━━━━━━━━━━━\u001b[0m\u001b[37m\u001b[0m \u001b[1m31s\u001b[0m 264ms/step - accuracy: 0.9405 - loss: 0.5035 - val_accuracy: 0.6503 - val_loss: 9.7373\n",
            "Epoch 17/20\n",
            "\u001b[1m115/115\u001b[0m \u001b[32m━━━━━━━━━━━━━━━━━━━━\u001b[0m\u001b[37m\u001b[0m \u001b[1m31s\u001b[0m 265ms/step - accuracy: 0.9515 - loss: 0.4451 - val_accuracy: 0.2255 - val_loss: 21.4595\n",
            "Epoch 18/20\n",
            "\u001b[1m115/115\u001b[0m \u001b[32m━━━━━━━━━━━━━━━━━━━━\u001b[0m\u001b[37m\u001b[0m \u001b[1m30s\u001b[0m 263ms/step - accuracy: 0.9733 - loss: 0.3326 - val_accuracy: 0.2614 - val_loss: 15.4283\n",
            "Epoch 19/20\n",
            "\u001b[1m115/115\u001b[0m \u001b[32m━━━━━━━━━━━━━━━━━━━━\u001b[0m\u001b[37m\u001b[0m \u001b[1m30s\u001b[0m 263ms/step - accuracy: 0.9948 - loss: 0.2240 - val_accuracy: 0.6928 - val_loss: 7.1315\n",
            "Epoch 20/20\n",
            "\u001b[1m115/115\u001b[0m \u001b[32m━━━━━━━━━━━━━━━━━━━━\u001b[0m\u001b[37m\u001b[0m \u001b[1m31s\u001b[0m 264ms/step - accuracy: 0.9911 - loss: 0.2171 - val_accuracy: 0.6830 - val_loss: 7.4553\n"
          ]
        }
      ]
    },
    {
      "cell_type": "code",
      "source": [
        "plt.plot(history.history['loss'])\n",
        "plt.plot(history.history['val_loss'])\n",
        "plt.title('model loss')\n",
        "plt.ylabel('loss')\n",
        "plt.xlabel('epoch')\n",
        "plt.legend(['train', 'val'], loc='upper right')"
      ],
      "metadata": {
        "colab": {
          "base_uri": "https://localhost:8080/",
          "height": 489
        },
        "id": "ts38Zry7d_th",
        "outputId": "92661b69-d193-412b-de68-39119e5004d2"
      },
      "execution_count": null,
      "outputs": [
        {
          "output_type": "execute_result",
          "data": {
            "text/plain": [
              "<matplotlib.legend.Legend at 0x7804503936d0>"
            ]
          },
          "metadata": {},
          "execution_count": 19
        },
        {
          "output_type": "display_data",
          "data": {
            "text/plain": [
              "<Figure size 640x480 with 1 Axes>"
            ],
            "image/png": "[encoded data removed]"
          },
          "metadata": {}
        }
      ]
    },
    {
      "cell_type": "code",
      "source": [
        "predictions = CNNmodel.predict(test_generator)\n",
        "y_pred = np.argmax(predictions, axis=1)\n",
        "test_loss, test_accuracy = CNNmodel.evaluate(test_generator)\n",
        "print(f\"Test accuracy: {test_accuracy}\")"
      ],
      "metadata": {
        "colab": {
          "base_uri": "https://localhost:8080/"
        },
        "id": "jJmwj1QDeGd0",
        "outputId": "6c08b40d-7ca2-46d8-bb59-3fb282e4f877"
      },
      "execution_count": null,
      "outputs": [
        {
          "output_type": "stream",
          "name": "stdout",
          "text": [
            "\u001b[1m39/39\u001b[0m \u001b[32m━━━━━━━━━━━━━━━━━━━━\u001b[0m\u001b[37m\u001b[0m \u001b[1m3s\u001b[0m 67ms/step\n",
            "\u001b[1m39/39\u001b[0m \u001b[32m━━━━━━━━━━━━━━━━━━━━\u001b[0m\u001b[37m\u001b[0m \u001b[1m2s\u001b[0m 54ms/step - accuracy: 0.6376 - loss: 9.0983\n",
            "Test accuracy: 0.6503267884254456\n"
          ]
        }
      ]
    },
    {
      "cell_type": "code",
      "source": [
        "y_test_flat = np.array(y_test, dtype='int')\n",
        "\n",
        "y_test_flat = np.argmax(y_test_flat, axis=1)"
      ],
      "metadata": {
        "id": "R7-MnqZKnuU5"
      },
      "execution_count": null,
      "outputs": []
    },
    {
      "cell_type": "code",
      "source": [
        "# Metrics\n",
        "accuracy = accuracy_score(y_test_flat, y_pred)\n",
        "precision = precision_score(y_test_flat, y_pred, average='weighted')\n",
        "recall = recall_score(y_test_flat, y_pred, average='weighted')\n",
        "f1 = f1_score(y_test_flat, y_pred, average='weighted')\n",
        "\n",
        "print(f'Accuracy: {accuracy:.4f}')\n",
        "print(f'Precision: {precision:.4f}')\n",
        "print(f'Recall: {recall:.4f}')\n",
        "print(f'F1 Score: {f1:.4f}')"
      ],
      "metadata": {
        "colab": {
          "base_uri": "https://localhost:8080/"
        },
        "id": "RTLhusSJJASK",
        "outputId": "8028f6af-7c3e-4345-f93c-403b9fb4157a"
      },
      "execution_count": null,
      "outputs": [
        {
          "output_type": "stream",
          "name": "stdout",
          "text": [
            "Accuracy: 0.6503\n",
            "Precision: 0.5513\n",
            "Recall: 0.6503\n",
            "F1 Score: 0.5761\n"
          ]
        },
        {
          "output_type": "stream",
          "name": "stderr",
          "text": [
            "/usr/local/lib/python3.10/dist-packages/sklearn/metrics/_classification.py:1471: UndefinedMetricWarning: Precision is ill-defined and being set to 0.0 in labels with no predicted samples. Use `zero_division` parameter to control this behavior.\n",
            "  _warn_prf(average, modifier, msg_start, len(result))\n"
          ]
        }
      ]
    },
    {
      "cell_type": "code",
      "source": [
        "report = classification_report(y_test_flat, y_pred, target_names=['Bach', 'Beethoven', 'Chopin', 'Mozart'])\n",
        "print(report)"
      ],
      "metadata": {
        "colab": {
          "base_uri": "https://localhost:8080/"
        },
        "id": "3jGqvM69phyJ",
        "outputId": "a761fc63-3ee1-45ac-85b3-4ad652b957ce"
      },
      "execution_count": null,
      "outputs": [
        {
          "output_type": "stream",
          "name": "stdout",
          "text": [
            "              precision    recall  f1-score   support\n",
            "\n",
            "        Bach       0.70      0.95      0.81       180\n",
            "   Beethoven       0.50      0.14      0.22        42\n",
            "      Chopin       0.00      0.00      0.00        35\n",
            "      Mozart       0.44      0.45      0.44        49\n",
            "\n",
            "    accuracy                           0.65       306\n",
            "   macro avg       0.41      0.39      0.37       306\n",
            "weighted avg       0.55      0.65      0.58       306\n",
            "\n"
          ]
        },
        {
          "output_type": "stream",
          "name": "stderr",
          "text": [
            "/usr/local/lib/python3.10/dist-packages/sklearn/metrics/_classification.py:1471: UndefinedMetricWarning: Precision and F-score are ill-defined and being set to 0.0 in labels with no predicted samples. Use `zero_division` parameter to control this behavior.\n",
            "  _warn_prf(average, modifier, msg_start, len(result))\n",
            "/usr/local/lib/python3.10/dist-packages/sklearn/metrics/_classification.py:1471: UndefinedMetricWarning: Precision and F-score are ill-defined and being set to 0.0 in labels with no predicted samples. Use `zero_division` parameter to control this behavior.\n",
            "  _warn_prf(average, modifier, msg_start, len(result))\n",
            "/usr/local/lib/python3.10/dist-packages/sklearn/metrics/_classification.py:1471: UndefinedMetricWarning: Precision and F-score are ill-defined and being set to 0.0 in labels with no predicted samples. Use `zero_division` parameter to control this behavior.\n",
            "  _warn_prf(average, modifier, msg_start, len(result))\n"
          ]
        }
      ]
    },
    {
      "cell_type": "code",
      "source": [
        "cm = confusion_matrix(y_test_flat, y_pred)\n",
        "\n",
        "print(\"Confusion Matrix:\")\n",
        "print(cm)"
      ],
      "metadata": {
        "colab": {
          "base_uri": "https://localhost:8080/"
        },
        "id": "mHqYCnqkKVjH",
        "outputId": "89153edb-a16e-4a68-d958-3b09e64e47a2"
      },
      "execution_count": null,
      "outputs": [
        {
          "output_type": "stream",
          "name": "stdout",
          "text": [
            "Confusion Matrix:\n",
            "[[171   0   0   9]\n",
            " [ 26   6   0  10]\n",
            " [ 20   6   0   9]\n",
            " [ 27   0   0  22]]\n"
          ]
        }
      ]
    },
    {
      "cell_type": "markdown",
      "source": [
        "### RNN (LSTM) Training"
      ],
      "metadata": {
        "id": "w-rBUBko2EaO"
      }
    },
    {
      "cell_type": "code",
      "source": [
        "# --- LSTM Model for Windowed Input ---\n",
        "from tensorflow.keras.callbacks import ModelCheckpoint\n",
        "\n",
        "\n",
        "# Define LSTM model\n",
        "model_windowed = Sequential()\n",
        "model_windowed.add(Embedding(len(all_pitches), 128, input_length=window_size))  # Window size as input length\n",
        "model_windowed.add(LSTM(256, return_sequences=True))\n",
        "model_windowed.add(Dropout(0.3))\n",
        "model_windowed.add(LSTM(128))\n",
        "model_windowed.add(Dropout(0.3))\n",
        "model_windowed.add(Dense(64, activation='relu'))\n",
        "model_windowed.add(Dense(4, activation='softmax'))\n",
        "\n",
        "# Compile the model\n",
        "model_windowed.compile(loss='categorical_crossentropy', optimizer='adam', metrics=['accuracy'])\n",
        "\n",
        "# Early Stopping to prevent overfitting\n",
        "early_stopping = EarlyStopping(monitor='val_loss', patience=5, restore_best_weights=True)\n",
        "\n",
        "# Create tf.data.Dataset for training\n",
        "train_dataset = tf.data.Dataset.from_tensor_slices((X_train_rnn, y_train_rnn))\n",
        "train_dataset = train_dataset.batch(512).prefetch(tf.data.AUTOTUNE)\n",
        "\n",
        "# Create tf.data.Dataset for testing\n",
        "test_dataset = tf.data.Dataset.from_tensor_slices((X_test_rnn, y_test_rnn))\n",
        "test_dataset = test_dataset.batch(512).prefetch(tf.data.AUTOTUNE)\n",
        "\n",
        "# Save model periodically since training takes so long\n",
        "checkpoint_callback = ModelCheckpoint(\n",
        "    filepath='/content/drive/MyDrive/windowed_model.keras',\n",
        "    save_weights_only=False,\n",
        "    monitor='val_loss',\n",
        "    mode='min',\n",
        "    save_best_only=True\n",
        ")\n",
        "\n",
        "# Train the model using the dataset\n",
        "history = model_windowed.fit(train_dataset, epochs=10, validation_data=test_dataset, callbacks=[early_stopping])\n",
        "\n",
        "# Save the model again  because it takes really long to retrain\n",
        "model_windowed.save('/content/drive/MyDrive/windowed_model_final.keras')\n",
        "%cd /content/drive/MyDrive/\n",
        "model_windowed.save('final_model.keras')\n",
        "\n",
        "# Evaluate the model\n",
        "loss, accuracy = model_windowed.evaluate(X_test, y_test)\n",
        "print(f\"Test Loss: {loss}, Test Accuracy: {accuracy}\")"
      ],
      "metadata": {
        "id": "TevKdvXj2E2b"
      },
      "execution_count": null,
      "outputs": []
    },
    {
      "cell_type": "markdown",
      "source": [
        "Epoch 1/10\n",
        "/usr/local/lib/python3.10/dist-packages/tensorflow/python/framework/indexed_slices.py:446: UserWarning: Converting sparse IndexedSlices to a dense Tensor with 638397184 elements. This may consume a large amount of memory.\n",
        "  warnings.warn(\n",
        "1502/1502 ━━━━━━━━━━━━━━━━━━━━ 5481s 4s/step - accuracy: 0.6202 - loss: 0.8733 - val_accuracy: 0.8040 - val_loss: 0.4629\n",
        "Epoch 2/10\n",
        "1502/1502 ━━━━━━━━━━━━━━━━━━━━ 5431s 4s/step - accuracy: 0.8224 - loss: 0.4261 - val_accuracy: 0.8529 - val_loss: 0.3616\n",
        "Epoch 3/10\n",
        "1502/1502 ━━━━━━━━━━━━━━━━━━━━ 5658s 4s/step - accuracy: 0.8665 - loss: 0.3309 - val_accuracy: 0.9049 - val_loss: 0.2471\n",
        "Epoch 4/10\n",
        "1502/1502 ━━━━━━━━━━━━━━━━━━━━ 5461s 4s/step - accuracy: 0.9193 - loss: 0.2124 - val_accuracy: 0.9430 - val_loss: 0.1567\n",
        "Epoch 5/10\n",
        "1502/1502 ━━━━━━━━━━━━━━━━━━━━ 5309s 4s/step - accuracy: 0.9567 - loss: 0.1211 - val_accuracy: 0.9669 - val_loss: 0.0966\n",
        "Epoch 6/10\n",
        "1502/1502 ━━━━━━━━━━━━━━━━━━━━ 5378s 4s/step - accuracy: 0.9736 - loss: 0.0766 - val_accuracy: 0.9774 - val_loss: 0.0674\n",
        "Epoch 7/10\n",
        "1502/1502 ━━━━━━━━━━━━━━━━━━━━ 5260s 4s/step - accuracy: 0.9836 - loss: 0.0475 - val_accuracy: 0.9841 - val_loss: 0.0489\n",
        "Epoch 8/10\n",
        "1502/1502 ━━━━━━━━━━━━━━━━━━━━ 5269s 4s/step - accuracy: 0.9877 - loss: 0.0359 - val_accuracy: 0.9853 - val_loss: 0.0453\n",
        "Epoch 9/10\n",
        "1502/1502 ━━━━━━━━━━━━━━━━━━━━ 5285s 4s/step - accuracy: 0.9902 - loss: 0.0287 - val_accuracy: 0.9891 - val_loss: 0.0348\n",
        "Epoch 10/10\n",
        " 945/1502 ━━━━━━━━━━━━━━━━━━━━ 32:16 3s/step - accuracy: 0.9912 - loss: 0.0264"
      ],
      "metadata": {
        "id": "EfcSeRcP2Gy_"
      }
    },
    {
      "cell_type": "code",
      "source": [
        "# Load model from h5 file (if needed)\n",
        "from tensorflow.keras.models import load_model\n",
        "# model_windowed = load_model('/content/drive/MyDrive/windowed_model_final.h5')\n",
        "\n",
        "# Plot training & validation accuracy values\n",
        "plt.figure(figsize=(12, 6))\n",
        "plt.subplot(1, 2, 1)\n",
        "plt.plot(history.history['accuracy'])\n",
        "plt.plot(history.history['val_accuracy'])\n",
        "plt.title('Model Accuracy')\n",
        "plt.ylabel('Accuracy')\n",
        "plt.xlabel('Epoch')\n",
        "plt.legend(['Train', 'Validation'], loc='upper left')\n",
        "\n",
        "# Plot training & validation loss values\n",
        "plt.subplot(1, 2, 2)\n",
        "plt.plot(history.history['loss'])\n",
        "plt.plot(history.history['val_loss'])\n",
        "plt.title('Model Loss')\n",
        "plt.ylabel('Loss')\n",
        "plt.xlabel('Epoch')\n",
        "plt.legend(['Train', 'Validation'], loc='upper left')\n",
        "\n",
        "plt.tight_layout()\n",
        "plt.show()"
      ],
      "metadata": {
        "id": "cg_Ar2e72HRx"
      },
      "execution_count": null,
      "outputs": []
    },
    {
      "cell_type": "code",
      "source": [
        "training_loss = history.history['loss']\n",
        "training_accuracy = history.history['accuracy']\n",
        "validation_loss = history.history['val_loss']\n",
        "validation_accuracy = history.history['val_accuracy']"
      ],
      "metadata": {
        "id": "SSondSFq2It5"
      },
      "execution_count": null,
      "outputs": []
    },
    {
      "cell_type": "code",
      "source": [
        "df = pd.DataFrame({\n",
        "    'loss': training_loss,\n",
        "    'accuracy': training_accuracy,\n",
        "    'val_loss': validation_loss,\n",
        "    'val_accuracy': validation_accuracy\n",
        "})\n",
        "df.to_csv('/content/drive/MyDrive/training_history.csv', index=False)"
      ],
      "metadata": {
        "id": "Dwu13Cjt2Jma"
      },
      "execution_count": null,
      "outputs": []
    },
    {
      "cell_type": "code",
      "source": [
        "# Show example predictions, feed in file and output predicted composer with actual composer\n",
        "predictions = model_windowed.predict(X_test)\n",
        "predicted_labels = np.argmax(predictions, axis=1)\n",
        "\n",
        "for i in range(len(X_test)):\n",
        "    print(f\"Actual: {np.argmax(y_test[i])}, Predicted: {predicted_labels[i]}\")"
      ],
      "metadata": {
        "id": "1xLSKkWI2KYp"
      },
      "execution_count": null,
      "outputs": []
    },
    {
      "cell_type": "code",
      "source": [
        "# Recode numerical labels to composer names\n",
        "composers = ['Bach', 'Mozart', 'Beethoven', 'Chopin']\n",
        "y_true = [np.argmax(y_test[i]) for i in range(len(X_test))]\n",
        "y_pred_names = [composers[pred] for pred in predicted_labels]\n",
        "y_true_names = [composers[true] for true in y_true]\n",
        "\n",
        "# Create a confusion matrix\n",
        "from sklearn.metrics import confusion_matrix\n",
        "import seaborn as sns\n",
        "import matplotlib.pyplot as plt\n",
        "\n",
        "cm = confusion_matrix(y_true_names, y_pred_names, labels=composers)\n",
        "\n",
        "# Plot the confusion matrix using Seaborn\n",
        "plt.figure(figsize=(10, 7))\n",
        "sns.heatmap(cm, annot=True, fmt='d', cmap='Blues', xticklabels=composers, yticklabels=composers)\n",
        "plt.xlabel('Predicted')\n",
        "plt.ylabel('Actual')\n",
        "plt.title('Confusion Matrix - Composer Prediction')\n",
        "plt.show()"
      ],
      "metadata": {
        "id": "eJNWYC7J2LKG"
      },
      "execution_count": null,
      "outputs": []
    }
  ]
}